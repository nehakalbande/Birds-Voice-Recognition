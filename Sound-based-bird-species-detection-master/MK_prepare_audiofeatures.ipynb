{
 "cells": [
  {
   "cell_type": "code",
   "execution_count": 7,
   "metadata": {},
   "outputs": [],
   "source": [
    "import os\n",
    "import gc\n",
    "import warnings\n",
    "warnings.filterwarnings('ignore')\n",
    "import sys\n",
    "from tqdm import tqdm_notebook as tqdm\n",
    "import numpy as np\n",
    "import librosa, librosa.display, IPython.display as ipd\n",
    "import json\n",
    "from mutagen.mp3 import MP3\n",
    "from statistics import mean, median\n",
    "import noisereduce as no\n",
    "import contextlib\n",
    "import wave\n",
    "from scipy.io import wavfile\n",
    "import pandas as pd\n",
    "import matplotlib.pyplot as plt\n",
    "import sklearn\n",
    "import contextlib"
   ]
  },
  {
   "cell_type": "code",
   "execution_count": 8,
   "metadata": {
    "scrolled": false
   },
   "outputs": [],
   "source": [
    "birds=[] \n",
    "for root, dirs, files in os.walk(\"../data/xeno-canto-dataset-full/\"):\n",
    "    if root == \"../data/xeno-canto-dataset-full/\":\n",
    "        birds=dirs\n",
    "birds50=[]                \n",
    "flist=[] \n",
    "blist=[] \n",
    "i50=0;\n",
    "for i, bird in enumerate(birds):\n",
    "    for root, dirs, files in os.walk(\"../data/xeno-canto-dataset-full/\"+bird):\n",
    "        for file in files:\n",
    "            if file.endswith(\".mp3\"):\n",
    "                blist.append(os.path.join(root, file))\n",
    "    if len(blist) > 50:\n",
    "        i50 = i50+1;\n",
    "        birds50.append(bird)\n",
    "        flist.append(blist)\n",
    "    blist=[]"
   ]
  },
  {
   "cell_type": "code",
   "execution_count": 13,
   "metadata": {},
   "outputs": [],
   "source": [
    "def extract_features(file_name):\n",
    "    try:\n",
    "        audio, sample_rate = librosa.load(file_name, res_type='kaiser_fast') \n",
    "        mfccs = librosa.feature.mfcc(y=audio, sr=sample_rate, n_mfcc=40)\n",
    "        mfccsscaled = np.mean(mfccs.T,axis=0)\n",
    "    except Exception as e:\n",
    "        print(\"Error encountered while parsing file: \", file)\n",
    "        return None \n",
    "    return mfccsscaled"
   ]
  },
  {
   "cell_type": "code",
   "execution_count": 31,
   "metadata": {},
   "outputs": [
    {
     "data": {
      "application/vnd.jupyter.widget-view+json": {
       "model_id": "e1458727e00845f4a0a16cd042ca81e1",
       "version_major": 2,
       "version_minor": 0
      },
      "text/plain": [
       "HBox(children=(IntProgress(value=1, bar_style='info', max=1), HTML(value='')))"
      ]
     },
     "metadata": {},
     "output_type": "display_data"
    },
    {
     "data": {
      "application/vnd.jupyter.widget-view+json": {
       "model_id": "d6321b627f094f63b0a14b285ba02440",
       "version_major": 2,
       "version_minor": 0
      },
      "text/plain": [
       "HBox(children=(IntProgress(value=1, bar_style='info', max=1), HTML(value='')))"
      ]
     },
     "metadata": {},
     "output_type": "display_data"
    },
    {
     "data": {
      "application/vnd.jupyter.widget-view+json": {
       "model_id": "6ad38c893e124915aee6042478873cfa",
       "version_major": 2,
       "version_minor": 0
      },
      "text/plain": [
       "HBox(children=(IntProgress(value=1, bar_style='info', max=1), HTML(value='')))"
      ]
     },
     "metadata": {},
     "output_type": "display_data"
    },
    {
     "data": {
      "application/vnd.jupyter.widget-view+json": {
       "model_id": "16e77238a1724a7a9bc74c9a90223a1d",
       "version_major": 2,
       "version_minor": 0
      },
      "text/plain": [
       "HBox(children=(IntProgress(value=1, bar_style='info', max=1), HTML(value='')))"
      ]
     },
     "metadata": {},
     "output_type": "display_data"
    },
    {
     "data": {
      "application/vnd.jupyter.widget-view+json": {
       "model_id": "44a8eb6bb84d4fe081bb7511117dda49",
       "version_major": 2,
       "version_minor": 0
      },
      "text/plain": [
       "HBox(children=(IntProgress(value=1, bar_style='info', max=1), HTML(value='')))"
      ]
     },
     "metadata": {},
     "output_type": "display_data"
    },
    {
     "data": {
      "application/vnd.jupyter.widget-view+json": {
       "model_id": "b4ed1ebc5d86423dac3cea34bc635ea2",
       "version_major": 2,
       "version_minor": 0
      },
      "text/plain": [
       "HBox(children=(IntProgress(value=1, bar_style='info', max=1), HTML(value='')))"
      ]
     },
     "metadata": {},
     "output_type": "display_data"
    },
    {
     "data": {
      "application/vnd.jupyter.widget-view+json": {
       "model_id": "6c22e1dcd0e549c49fc0c049e7dbce39",
       "version_major": 2,
       "version_minor": 0
      },
      "text/plain": [
       "HBox(children=(IntProgress(value=1, bar_style='info', max=1), HTML(value='')))"
      ]
     },
     "metadata": {},
     "output_type": "display_data"
    },
    {
     "data": {
      "application/vnd.jupyter.widget-view+json": {
       "model_id": "adcababfb4da41e18b31053fca3f851c",
       "version_major": 2,
       "version_minor": 0
      },
      "text/plain": [
       "HBox(children=(IntProgress(value=1, bar_style='info', max=1), HTML(value='')))"
      ]
     },
     "metadata": {},
     "output_type": "display_data"
    },
    {
     "data": {
      "application/vnd.jupyter.widget-view+json": {
       "model_id": "a50f606bd75f4587b7a2d906878cea1c",
       "version_major": 2,
       "version_minor": 0
      },
      "text/plain": [
       "HBox(children=(IntProgress(value=1, bar_style='info', max=1), HTML(value='')))"
      ]
     },
     "metadata": {},
     "output_type": "display_data"
    },
    {
     "data": {
      "application/vnd.jupyter.widget-view+json": {
       "model_id": "dfb2fd1837234d368ff4b7861e286030",
       "version_major": 2,
       "version_minor": 0
      },
      "text/plain": [
       "HBox(children=(IntProgress(value=1, bar_style='info', max=1), HTML(value='')))"
      ]
     },
     "metadata": {},
     "output_type": "display_data"
    },
    {
     "data": {
      "application/vnd.jupyter.widget-view+json": {
       "model_id": "d79bb590b3a846bdbaf3a336a3f69e29",
       "version_major": 2,
       "version_minor": 0
      },
      "text/plain": [
       "HBox(children=(IntProgress(value=1, bar_style='info', max=1), HTML(value='')))"
      ]
     },
     "metadata": {},
     "output_type": "display_data"
    },
    {
     "data": {
      "application/vnd.jupyter.widget-view+json": {
       "model_id": "f94f87982ea440639d3c52205e6acbf2",
       "version_major": 2,
       "version_minor": 0
      },
      "text/plain": [
       "HBox(children=(IntProgress(value=1, bar_style='info', max=1), HTML(value='')))"
      ]
     },
     "metadata": {},
     "output_type": "display_data"
    },
    {
     "data": {
      "application/vnd.jupyter.widget-view+json": {
       "model_id": "c5aabd07761a4dc7b07c1b0b31680585",
       "version_major": 2,
       "version_minor": 0
      },
      "text/plain": [
       "HBox(children=(IntProgress(value=1, bar_style='info', max=1), HTML(value='')))"
      ]
     },
     "metadata": {},
     "output_type": "display_data"
    },
    {
     "data": {
      "application/vnd.jupyter.widget-view+json": {
       "model_id": "a220080dbb6e49298df9079ab4d489e1",
       "version_major": 2,
       "version_minor": 0
      },
      "text/plain": [
       "HBox(children=(IntProgress(value=1, bar_style='info', max=1), HTML(value='')))"
      ]
     },
     "metadata": {},
     "output_type": "display_data"
    },
    {
     "data": {
      "application/vnd.jupyter.widget-view+json": {
       "model_id": "c7ff3319781446c7a7df16d1d892d906",
       "version_major": 2,
       "version_minor": 0
      },
      "text/plain": [
       "HBox(children=(IntProgress(value=1, bar_style='info', max=1), HTML(value='')))"
      ]
     },
     "metadata": {},
     "output_type": "display_data"
    },
    {
     "data": {
      "application/vnd.jupyter.widget-view+json": {
       "model_id": "8fb7d597a6f94090829c73bda383adbf",
       "version_major": 2,
       "version_minor": 0
      },
      "text/plain": [
       "HBox(children=(IntProgress(value=1, bar_style='info', max=1), HTML(value='')))"
      ]
     },
     "metadata": {},
     "output_type": "display_data"
    },
    {
     "data": {
      "application/vnd.jupyter.widget-view+json": {
       "model_id": "476368876f81488b8f38888e05fb1948",
       "version_major": 2,
       "version_minor": 0
      },
      "text/plain": [
       "HBox(children=(IntProgress(value=1, bar_style='info', max=1), HTML(value='')))"
      ]
     },
     "metadata": {},
     "output_type": "display_data"
    },
    {
     "data": {
      "application/vnd.jupyter.widget-view+json": {
       "model_id": "1d95fe4fc718422bbefd0539efbca148",
       "version_major": 2,
       "version_minor": 0
      },
      "text/plain": [
       "HBox(children=(IntProgress(value=1, bar_style='info', max=1), HTML(value='')))"
      ]
     },
     "metadata": {},
     "output_type": "display_data"
    },
    {
     "data": {
      "application/vnd.jupyter.widget-view+json": {
       "model_id": "60625834fd7a4cf8b2abda7667d3c580",
       "version_major": 2,
       "version_minor": 0
      },
      "text/plain": [
       "HBox(children=(IntProgress(value=1, bar_style='info', max=1), HTML(value='')))"
      ]
     },
     "metadata": {},
     "output_type": "display_data"
    }
   ],
   "source": [
    "features = []\n",
    "\n",
    "for bird, birdList in enumerate(flist):\n",
    "    for birdnr, path in tqdm(enumerate(birdList)):\n",
    "        class_label = birds50[bird]\n",
    "        class_number = str(bird)\n",
    "        data = extract_features(path)\n",
    "        features.append([data, class_label, class_number])"
   ]
  },
  {
   "cell_type": "code",
   "execution_count": 33,
   "metadata": {},
   "outputs": [
    {
     "data": {
      "text/html": [
       "<div>\n",
       "<style scoped>\n",
       "    .dataframe tbody tr th:only-of-type {\n",
       "        vertical-align: middle;\n",
       "    }\n",
       "\n",
       "    .dataframe tbody tr th {\n",
       "        vertical-align: top;\n",
       "    }\n",
       "\n",
       "    .dataframe thead th {\n",
       "        text-align: right;\n",
       "    }\n",
       "</style>\n",
       "<table border=\"1\" class=\"dataframe\">\n",
       "  <thead>\n",
       "    <tr style=\"text-align: right;\">\n",
       "      <th></th>\n",
       "      <th>feature</th>\n",
       "      <th>class_label</th>\n",
       "      <th>class_number</th>\n",
       "    </tr>\n",
       "  </thead>\n",
       "  <tbody>\n",
       "    <tr>\n",
       "      <th>0</th>\n",
       "      <td>[-249.64522, 79.68284, -0.19243973, 63.067345,...</td>\n",
       "      <td>Parusmajor</td>\n",
       "      <td>0</td>\n",
       "    </tr>\n",
       "    <tr>\n",
       "      <th>1</th>\n",
       "      <td>[-262.3384, 80.125084, -2.8559191, 68.1852, -8...</td>\n",
       "      <td>Parusmajor</td>\n",
       "      <td>0</td>\n",
       "    </tr>\n",
       "    <tr>\n",
       "      <th>2</th>\n",
       "      <td>[-262.05252, 76.93314, -9.406604, 73.87031, -8...</td>\n",
       "      <td>Parusmajor</td>\n",
       "      <td>0</td>\n",
       "    </tr>\n",
       "    <tr>\n",
       "      <th>3</th>\n",
       "      <td>[-334.8479, 92.13865, -27.533556, 22.89614, -1...</td>\n",
       "      <td>Parusmajor</td>\n",
       "      <td>0</td>\n",
       "    </tr>\n",
       "    <tr>\n",
       "      <th>4</th>\n",
       "      <td>[-369.7966, 23.742077, -30.670237, 47.070755, ...</td>\n",
       "      <td>Parusmajor</td>\n",
       "      <td>0</td>\n",
       "    </tr>\n",
       "    <tr>\n",
       "      <th>5</th>\n",
       "      <td>[-627.03217, 27.008677, -41.92673, -1.3813444,...</td>\n",
       "      <td>Parusmajor</td>\n",
       "      <td>0</td>\n",
       "    </tr>\n",
       "    <tr>\n",
       "      <th>6</th>\n",
       "      <td>[-221.43092, 101.09712, -41.40647, -1.9662344,...</td>\n",
       "      <td>Parusmajor</td>\n",
       "      <td>0</td>\n",
       "    </tr>\n",
       "    <tr>\n",
       "      <th>7</th>\n",
       "      <td>[-369.94208, -14.56833, -121.4688, -30.383121,...</td>\n",
       "      <td>Parusmajor</td>\n",
       "      <td>0</td>\n",
       "    </tr>\n",
       "    <tr>\n",
       "      <th>8</th>\n",
       "      <td>[-418.6473, 0.510561, -51.769505, 30.315119, -...</td>\n",
       "      <td>Parusmajor</td>\n",
       "      <td>0</td>\n",
       "    </tr>\n",
       "    <tr>\n",
       "      <th>9</th>\n",
       "      <td>[-418.7963, 15.295136, -77.9733, -4.355606, -6...</td>\n",
       "      <td>Parusmajor</td>\n",
       "      <td>0</td>\n",
       "    </tr>\n",
       "    <tr>\n",
       "      <th>10</th>\n",
       "      <td>[-440.83847, 36.936905, -27.523642, 29.904196,...</td>\n",
       "      <td>Parusmajor</td>\n",
       "      <td>0</td>\n",
       "    </tr>\n",
       "    <tr>\n",
       "      <th>11</th>\n",
       "      <td>[-441.32217, 2.003173, -92.846886, -15.00146, ...</td>\n",
       "      <td>Parusmajor</td>\n",
       "      <td>0</td>\n",
       "    </tr>\n",
       "    <tr>\n",
       "      <th>12</th>\n",
       "      <td>[-370.94562, 3.4489822, -29.581354, 44.976406,...</td>\n",
       "      <td>Parusmajor</td>\n",
       "      <td>0</td>\n",
       "    </tr>\n",
       "    <tr>\n",
       "      <th>13</th>\n",
       "      <td>[-286.76993, 36.953247, -25.22225, 25.87386, -...</td>\n",
       "      <td>Parusmajor</td>\n",
       "      <td>0</td>\n",
       "    </tr>\n",
       "    <tr>\n",
       "      <th>14</th>\n",
       "      <td>[-431.1298, 4.0305676, -139.43478, -32.63483, ...</td>\n",
       "      <td>Parusmajor</td>\n",
       "      <td>0</td>\n",
       "    </tr>\n",
       "    <tr>\n",
       "      <th>15</th>\n",
       "      <td>[-395.5874, 73.2279, -39.513283, 2.73658, -26....</td>\n",
       "      <td>Parusmajor</td>\n",
       "      <td>0</td>\n",
       "    </tr>\n",
       "    <tr>\n",
       "      <th>16</th>\n",
       "      <td>[-408.88998, 31.827944, -40.4071, -36.956966, ...</td>\n",
       "      <td>Parusmajor</td>\n",
       "      <td>0</td>\n",
       "    </tr>\n",
       "    <tr>\n",
       "      <th>17</th>\n",
       "      <td>[-328.18314, 0.39454892, -27.822004, 49.972343...</td>\n",
       "      <td>Parusmajor</td>\n",
       "      <td>0</td>\n",
       "    </tr>\n",
       "    <tr>\n",
       "      <th>18</th>\n",
       "      <td>[-418.29797, 38.570564, -105.10547, -30.034758...</td>\n",
       "      <td>Parusmajor</td>\n",
       "      <td>0</td>\n",
       "    </tr>\n",
       "    <tr>\n",
       "      <th>19</th>\n",
       "      <td>[-277.8922, 102.05485, 13.86533, 39.811306, -1...</td>\n",
       "      <td>Parusmajor</td>\n",
       "      <td>0</td>\n",
       "    </tr>\n",
       "    <tr>\n",
       "      <th>20</th>\n",
       "      <td>[-490.3938, 5.387961, -56.22216, -13.297135, -...</td>\n",
       "      <td>Parusmajor</td>\n",
       "      <td>0</td>\n",
       "    </tr>\n",
       "    <tr>\n",
       "      <th>21</th>\n",
       "      <td>[-345.85803, 76.144394, -14.594762, 51.634624,...</td>\n",
       "      <td>Parusmajor</td>\n",
       "      <td>0</td>\n",
       "    </tr>\n",
       "    <tr>\n",
       "      <th>22</th>\n",
       "      <td>[-427.62625, 94.26791, -6.8727727, 19.157946, ...</td>\n",
       "      <td>Parusmajor</td>\n",
       "      <td>0</td>\n",
       "    </tr>\n",
       "    <tr>\n",
       "      <th>23</th>\n",
       "      <td>[-382.88937, -18.415504, -113.185104, -4.61664...</td>\n",
       "      <td>Parusmajor</td>\n",
       "      <td>0</td>\n",
       "    </tr>\n",
       "    <tr>\n",
       "      <th>24</th>\n",
       "      <td>[-228.78569, -42.74248, -124.891754, -38.40517...</td>\n",
       "      <td>Parusmajor</td>\n",
       "      <td>0</td>\n",
       "    </tr>\n",
       "    <tr>\n",
       "      <th>25</th>\n",
       "      <td>[-307.9687, 90.74766, 15.863096, 23.05414, -16...</td>\n",
       "      <td>Parusmajor</td>\n",
       "      <td>0</td>\n",
       "    </tr>\n",
       "    <tr>\n",
       "      <th>26</th>\n",
       "      <td>[-455.2751, 4.578249, -97.36344, 0.8477284, -2...</td>\n",
       "      <td>Parusmajor</td>\n",
       "      <td>0</td>\n",
       "    </tr>\n",
       "    <tr>\n",
       "      <th>27</th>\n",
       "      <td>[-451.10025, 37.659477, -59.55883, 36.294197, ...</td>\n",
       "      <td>Parusmajor</td>\n",
       "      <td>0</td>\n",
       "    </tr>\n",
       "    <tr>\n",
       "      <th>28</th>\n",
       "      <td>[-443.66226, -8.516838, -13.127034, 60.14273, ...</td>\n",
       "      <td>Parusmajor</td>\n",
       "      <td>0</td>\n",
       "    </tr>\n",
       "    <tr>\n",
       "      <th>29</th>\n",
       "      <td>[-305.23108, 76.40697, -23.187178, 23.437542, ...</td>\n",
       "      <td>Parusmajor</td>\n",
       "      <td>0</td>\n",
       "    </tr>\n",
       "    <tr>\n",
       "      <th>...</th>\n",
       "      <td>...</td>\n",
       "      <td>...</td>\n",
       "      <td>...</td>\n",
       "    </tr>\n",
       "    <tr>\n",
       "      <th>4362</th>\n",
       "      <td>[-534.5719, -49.915802, -53.663235, 37.575043,...</td>\n",
       "      <td>Turdusmerula</td>\n",
       "      <td>18</td>\n",
       "    </tr>\n",
       "    <tr>\n",
       "      <th>4363</th>\n",
       "      <td>[-490.33853, -32.599266, -71.91113, 31.191925,...</td>\n",
       "      <td>Turdusmerula</td>\n",
       "      <td>18</td>\n",
       "    </tr>\n",
       "    <tr>\n",
       "      <th>4364</th>\n",
       "      <td>[-253.67455, 27.91236, -74.852066, 18.680046, ...</td>\n",
       "      <td>Turdusmerula</td>\n",
       "      <td>18</td>\n",
       "    </tr>\n",
       "    <tr>\n",
       "      <th>4365</th>\n",
       "      <td>[-559.7138, -23.493963, -53.663685, 33.06271, ...</td>\n",
       "      <td>Turdusmerula</td>\n",
       "      <td>18</td>\n",
       "    </tr>\n",
       "    <tr>\n",
       "      <th>4366</th>\n",
       "      <td>[-392.57288, 49.606438, -88.1821, 0.42593986, ...</td>\n",
       "      <td>Turdusmerula</td>\n",
       "      <td>18</td>\n",
       "    </tr>\n",
       "    <tr>\n",
       "      <th>4367</th>\n",
       "      <td>[-534.0354, 4.1479416, -75.28719, -6.6969376, ...</td>\n",
       "      <td>Turdusmerula</td>\n",
       "      <td>18</td>\n",
       "    </tr>\n",
       "    <tr>\n",
       "      <th>4368</th>\n",
       "      <td>[-513.3295, -6.0276203, -75.976006, 17.50921, ...</td>\n",
       "      <td>Turdusmerula</td>\n",
       "      <td>18</td>\n",
       "    </tr>\n",
       "    <tr>\n",
       "      <th>4369</th>\n",
       "      <td>[-469.1013, 56.01861, -24.598742, 6.5382013, -...</td>\n",
       "      <td>Turdusmerula</td>\n",
       "      <td>18</td>\n",
       "    </tr>\n",
       "    <tr>\n",
       "      <th>4370</th>\n",
       "      <td>[-170.14854, 207.52689, -77.39731, 50.59034, 1...</td>\n",
       "      <td>Turdusmerula</td>\n",
       "      <td>18</td>\n",
       "    </tr>\n",
       "    <tr>\n",
       "      <th>4371</th>\n",
       "      <td>[-376.52368, 87.67497, -53.46351, -24.93777, -...</td>\n",
       "      <td>Turdusmerula</td>\n",
       "      <td>18</td>\n",
       "    </tr>\n",
       "    <tr>\n",
       "      <th>4372</th>\n",
       "      <td>[-308.68384, -23.828749, -119.74896, -13.63040...</td>\n",
       "      <td>Turdusmerula</td>\n",
       "      <td>18</td>\n",
       "    </tr>\n",
       "    <tr>\n",
       "      <th>4373</th>\n",
       "      <td>[-510.35327, -48.45792, -42.87796, 34.41797, 1...</td>\n",
       "      <td>Turdusmerula</td>\n",
       "      <td>18</td>\n",
       "    </tr>\n",
       "    <tr>\n",
       "      <th>4374</th>\n",
       "      <td>[-543.7713, -37.22857, -46.60123, 34.571877, 1...</td>\n",
       "      <td>Turdusmerula</td>\n",
       "      <td>18</td>\n",
       "    </tr>\n",
       "    <tr>\n",
       "      <th>4375</th>\n",
       "      <td>[-467.2099, 38.358166, -64.990875, -11.512905,...</td>\n",
       "      <td>Turdusmerula</td>\n",
       "      <td>18</td>\n",
       "    </tr>\n",
       "    <tr>\n",
       "      <th>4376</th>\n",
       "      <td>[-468.90564, -21.60023, -93.736534, 17.345062,...</td>\n",
       "      <td>Turdusmerula</td>\n",
       "      <td>18</td>\n",
       "    </tr>\n",
       "    <tr>\n",
       "      <th>4377</th>\n",
       "      <td>[-403.92535, 81.29481, -13.60728, 24.369198, 1...</td>\n",
       "      <td>Turdusmerula</td>\n",
       "      <td>18</td>\n",
       "    </tr>\n",
       "    <tr>\n",
       "      <th>4378</th>\n",
       "      <td>[-410.59506, 92.714645, -61.334133, -42.756588...</td>\n",
       "      <td>Turdusmerula</td>\n",
       "      <td>18</td>\n",
       "    </tr>\n",
       "    <tr>\n",
       "      <th>4379</th>\n",
       "      <td>[-504.89264, -44.989574, -50.40087, 33.751884,...</td>\n",
       "      <td>Turdusmerula</td>\n",
       "      <td>18</td>\n",
       "    </tr>\n",
       "    <tr>\n",
       "      <th>4380</th>\n",
       "      <td>[-403.83984, 123.33369, -36.314774, -25.266798...</td>\n",
       "      <td>Turdusmerula</td>\n",
       "      <td>18</td>\n",
       "    </tr>\n",
       "    <tr>\n",
       "      <th>4381</th>\n",
       "      <td>[-432.90958, 90.29208, -0.4644669, 67.03577, -...</td>\n",
       "      <td>Turdusmerula</td>\n",
       "      <td>18</td>\n",
       "    </tr>\n",
       "    <tr>\n",
       "      <th>4382</th>\n",
       "      <td>[-437.9547, 70.141594, -18.842236, 60.92004, 1...</td>\n",
       "      <td>Turdusmerula</td>\n",
       "      <td>18</td>\n",
       "    </tr>\n",
       "    <tr>\n",
       "      <th>4383</th>\n",
       "      <td>[-458.30084, 72.06782, 12.289267, 44.78287, 19...</td>\n",
       "      <td>Turdusmerula</td>\n",
       "      <td>18</td>\n",
       "    </tr>\n",
       "    <tr>\n",
       "      <th>4384</th>\n",
       "      <td>[-413.05133, 69.850464, -16.17375, 44.433125, ...</td>\n",
       "      <td>Turdusmerula</td>\n",
       "      <td>18</td>\n",
       "    </tr>\n",
       "    <tr>\n",
       "      <th>4385</th>\n",
       "      <td>[-417.17526, 63.512306, -15.161781, 44.738995,...</td>\n",
       "      <td>Turdusmerula</td>\n",
       "      <td>18</td>\n",
       "    </tr>\n",
       "    <tr>\n",
       "      <th>4386</th>\n",
       "      <td>[-491.1475, 71.09038, 9.675812, 39.965992, 4.4...</td>\n",
       "      <td>Turdusmerula</td>\n",
       "      <td>18</td>\n",
       "    </tr>\n",
       "    <tr>\n",
       "      <th>4387</th>\n",
       "      <td>[-418.90146, 14.19191, -18.417934, 35.52866, 1...</td>\n",
       "      <td>Turdusmerula</td>\n",
       "      <td>18</td>\n",
       "    </tr>\n",
       "    <tr>\n",
       "      <th>4388</th>\n",
       "      <td>[-440.8694, 46.869827, -8.241721, 67.981384, 2...</td>\n",
       "      <td>Turdusmerula</td>\n",
       "      <td>18</td>\n",
       "    </tr>\n",
       "    <tr>\n",
       "      <th>4389</th>\n",
       "      <td>[-501.62622, 94.60645, -13.456379, 30.55552, -...</td>\n",
       "      <td>Turdusmerula</td>\n",
       "      <td>18</td>\n",
       "    </tr>\n",
       "    <tr>\n",
       "      <th>4390</th>\n",
       "      <td>[-400.30844, 74.55693, -23.985226, 64.25727, 1...</td>\n",
       "      <td>Turdusmerula</td>\n",
       "      <td>18</td>\n",
       "    </tr>\n",
       "    <tr>\n",
       "      <th>4391</th>\n",
       "      <td>[-434.90585, 49.754803, -14.824845, 39.666164,...</td>\n",
       "      <td>Turdusmerula</td>\n",
       "      <td>18</td>\n",
       "    </tr>\n",
       "  </tbody>\n",
       "</table>\n",
       "<p>4392 rows × 3 columns</p>\n",
       "</div>"
      ],
      "text/plain": [
       "                                                feature   class_label  \\\n",
       "0     [-249.64522, 79.68284, -0.19243973, 63.067345,...    Parusmajor   \n",
       "1     [-262.3384, 80.125084, -2.8559191, 68.1852, -8...    Parusmajor   \n",
       "2     [-262.05252, 76.93314, -9.406604, 73.87031, -8...    Parusmajor   \n",
       "3     [-334.8479, 92.13865, -27.533556, 22.89614, -1...    Parusmajor   \n",
       "4     [-369.7966, 23.742077, -30.670237, 47.070755, ...    Parusmajor   \n",
       "5     [-627.03217, 27.008677, -41.92673, -1.3813444,...    Parusmajor   \n",
       "6     [-221.43092, 101.09712, -41.40647, -1.9662344,...    Parusmajor   \n",
       "7     [-369.94208, -14.56833, -121.4688, -30.383121,...    Parusmajor   \n",
       "8     [-418.6473, 0.510561, -51.769505, 30.315119, -...    Parusmajor   \n",
       "9     [-418.7963, 15.295136, -77.9733, -4.355606, -6...    Parusmajor   \n",
       "10    [-440.83847, 36.936905, -27.523642, 29.904196,...    Parusmajor   \n",
       "11    [-441.32217, 2.003173, -92.846886, -15.00146, ...    Parusmajor   \n",
       "12    [-370.94562, 3.4489822, -29.581354, 44.976406,...    Parusmajor   \n",
       "13    [-286.76993, 36.953247, -25.22225, 25.87386, -...    Parusmajor   \n",
       "14    [-431.1298, 4.0305676, -139.43478, -32.63483, ...    Parusmajor   \n",
       "15    [-395.5874, 73.2279, -39.513283, 2.73658, -26....    Parusmajor   \n",
       "16    [-408.88998, 31.827944, -40.4071, -36.956966, ...    Parusmajor   \n",
       "17    [-328.18314, 0.39454892, -27.822004, 49.972343...    Parusmajor   \n",
       "18    [-418.29797, 38.570564, -105.10547, -30.034758...    Parusmajor   \n",
       "19    [-277.8922, 102.05485, 13.86533, 39.811306, -1...    Parusmajor   \n",
       "20    [-490.3938, 5.387961, -56.22216, -13.297135, -...    Parusmajor   \n",
       "21    [-345.85803, 76.144394, -14.594762, 51.634624,...    Parusmajor   \n",
       "22    [-427.62625, 94.26791, -6.8727727, 19.157946, ...    Parusmajor   \n",
       "23    [-382.88937, -18.415504, -113.185104, -4.61664...    Parusmajor   \n",
       "24    [-228.78569, -42.74248, -124.891754, -38.40517...    Parusmajor   \n",
       "25    [-307.9687, 90.74766, 15.863096, 23.05414, -16...    Parusmajor   \n",
       "26    [-455.2751, 4.578249, -97.36344, 0.8477284, -2...    Parusmajor   \n",
       "27    [-451.10025, 37.659477, -59.55883, 36.294197, ...    Parusmajor   \n",
       "28    [-443.66226, -8.516838, -13.127034, 60.14273, ...    Parusmajor   \n",
       "29    [-305.23108, 76.40697, -23.187178, 23.437542, ...    Parusmajor   \n",
       "...                                                 ...           ...   \n",
       "4362  [-534.5719, -49.915802, -53.663235, 37.575043,...  Turdusmerula   \n",
       "4363  [-490.33853, -32.599266, -71.91113, 31.191925,...  Turdusmerula   \n",
       "4364  [-253.67455, 27.91236, -74.852066, 18.680046, ...  Turdusmerula   \n",
       "4365  [-559.7138, -23.493963, -53.663685, 33.06271, ...  Turdusmerula   \n",
       "4366  [-392.57288, 49.606438, -88.1821, 0.42593986, ...  Turdusmerula   \n",
       "4367  [-534.0354, 4.1479416, -75.28719, -6.6969376, ...  Turdusmerula   \n",
       "4368  [-513.3295, -6.0276203, -75.976006, 17.50921, ...  Turdusmerula   \n",
       "4369  [-469.1013, 56.01861, -24.598742, 6.5382013, -...  Turdusmerula   \n",
       "4370  [-170.14854, 207.52689, -77.39731, 50.59034, 1...  Turdusmerula   \n",
       "4371  [-376.52368, 87.67497, -53.46351, -24.93777, -...  Turdusmerula   \n",
       "4372  [-308.68384, -23.828749, -119.74896, -13.63040...  Turdusmerula   \n",
       "4373  [-510.35327, -48.45792, -42.87796, 34.41797, 1...  Turdusmerula   \n",
       "4374  [-543.7713, -37.22857, -46.60123, 34.571877, 1...  Turdusmerula   \n",
       "4375  [-467.2099, 38.358166, -64.990875, -11.512905,...  Turdusmerula   \n",
       "4376  [-468.90564, -21.60023, -93.736534, 17.345062,...  Turdusmerula   \n",
       "4377  [-403.92535, 81.29481, -13.60728, 24.369198, 1...  Turdusmerula   \n",
       "4378  [-410.59506, 92.714645, -61.334133, -42.756588...  Turdusmerula   \n",
       "4379  [-504.89264, -44.989574, -50.40087, 33.751884,...  Turdusmerula   \n",
       "4380  [-403.83984, 123.33369, -36.314774, -25.266798...  Turdusmerula   \n",
       "4381  [-432.90958, 90.29208, -0.4644669, 67.03577, -...  Turdusmerula   \n",
       "4382  [-437.9547, 70.141594, -18.842236, 60.92004, 1...  Turdusmerula   \n",
       "4383  [-458.30084, 72.06782, 12.289267, 44.78287, 19...  Turdusmerula   \n",
       "4384  [-413.05133, 69.850464, -16.17375, 44.433125, ...  Turdusmerula   \n",
       "4385  [-417.17526, 63.512306, -15.161781, 44.738995,...  Turdusmerula   \n",
       "4386  [-491.1475, 71.09038, 9.675812, 39.965992, 4.4...  Turdusmerula   \n",
       "4387  [-418.90146, 14.19191, -18.417934, 35.52866, 1...  Turdusmerula   \n",
       "4388  [-440.8694, 46.869827, -8.241721, 67.981384, 2...  Turdusmerula   \n",
       "4389  [-501.62622, 94.60645, -13.456379, 30.55552, -...  Turdusmerula   \n",
       "4390  [-400.30844, 74.55693, -23.985226, 64.25727, 1...  Turdusmerula   \n",
       "4391  [-434.90585, 49.754803, -14.824845, 39.666164,...  Turdusmerula   \n",
       "\n",
       "     class_number  \n",
       "0               0  \n",
       "1               0  \n",
       "2               0  \n",
       "3               0  \n",
       "4               0  \n",
       "5               0  \n",
       "6               0  \n",
       "7               0  \n",
       "8               0  \n",
       "9               0  \n",
       "10              0  \n",
       "11              0  \n",
       "12              0  \n",
       "13              0  \n",
       "14              0  \n",
       "15              0  \n",
       "16              0  \n",
       "17              0  \n",
       "18              0  \n",
       "19              0  \n",
       "20              0  \n",
       "21              0  \n",
       "22              0  \n",
       "23              0  \n",
       "24              0  \n",
       "25              0  \n",
       "26              0  \n",
       "27              0  \n",
       "28              0  \n",
       "29              0  \n",
       "...           ...  \n",
       "4362           18  \n",
       "4363           18  \n",
       "4364           18  \n",
       "4365           18  \n",
       "4366           18  \n",
       "4367           18  \n",
       "4368           18  \n",
       "4369           18  \n",
       "4370           18  \n",
       "4371           18  \n",
       "4372           18  \n",
       "4373           18  \n",
       "4374           18  \n",
       "4375           18  \n",
       "4376           18  \n",
       "4377           18  \n",
       "4378           18  \n",
       "4379           18  \n",
       "4380           18  \n",
       "4381           18  \n",
       "4382           18  \n",
       "4383           18  \n",
       "4384           18  \n",
       "4385           18  \n",
       "4386           18  \n",
       "4387           18  \n",
       "4388           18  \n",
       "4389           18  \n",
       "4390           18  \n",
       "4391           18  \n",
       "\n",
       "[4392 rows x 3 columns]"
      ]
     },
     "execution_count": 33,
     "metadata": {},
     "output_type": "execute_result"
    }
   ],
   "source": [
    "featuresdf = pd.DataFrame(features, columns=['feature','class_label','class_number'])\n",
    "\n",
    "featuresdf"
   ]
  },
  {
   "cell_type": "code",
   "execution_count": 34,
   "metadata": {},
   "outputs": [],
   "source": [
    "featuresdf.to_csv('bird_features.csv')"
   ]
  },
  {
   "cell_type": "code",
   "execution_count": null,
   "metadata": {},
   "outputs": [],
   "source": []
  }
 ],
 "metadata": {
  "kernelspec": {
   "display_name": "Python 3",
   "language": "python",
   "name": "python3"
  },
  "language_info": {
   "codemirror_mode": {
    "name": "ipython",
    "version": 3
   },
   "file_extension": ".py",
   "mimetype": "text/x-python",
   "name": "python",
   "nbconvert_exporter": "python",
   "pygments_lexer": "ipython3",
   "version": "3.7.3"
  }
 },
 "nbformat": 4,
 "nbformat_minor": 2
}
