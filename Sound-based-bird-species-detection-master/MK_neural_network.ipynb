{
 "cells": [
  {
   "cell_type": "code",
   "execution_count": 16,
   "metadata": {},
   "outputs": [],
   "source": [
    "import sys\n",
    "import numpy as np\n",
    "import tensorflow as tf\n",
    "from tensorflow.keras.applications.xception import Xception, preprocess_input\n",
    "from sklearn import metrics\n",
    "from sklearn.metrics import confusion_matrix, classification_report, roc_curve\n",
    "from sklearn.preprocessing import LabelBinarizer\n",
    "from sklearn.utils import class_weight\n",
    "import keras\n",
    "from keras import backend as K\n",
    "from keras.models import Sequential, Model\n",
    "from keras.layers import Input,Dense, Dropout, Activation, Flatten, Convolution2D, Conv2D, MaxPooling2D, GlobalAveragePooling2D\n",
    "from keras.layers.core import Dropout\n",
    "from keras.layers.normalization import BatchNormalization\n",
    "from keras.preprocessing.image import ImageDataGenerator\n",
    "from keras.optimizers import Adam\n",
    "from keras.utils import np_utils\n",
    "from keras.regularizers import l2\n",
    "from keras.callbacks import EarlyStopping, ModelCheckpoint\n",
    "import matplotlib.pyplot as plt"
   ]
  },
  {
   "cell_type": "code",
   "execution_count": 17,
   "metadata": {},
   "outputs": [
    {
     "name": "stdout",
     "output_type": "stream",
     "text": [
      "Model: \"sequential_2\"\n",
      "_________________________________________________________________\n",
      "Layer (type)                 Output Shape              Param #   \n",
      "=================================================================\n",
      "conv2d_3 (Conv2D)            (None, 286, 286, 32)      896       \n",
      "_________________________________________________________________\n",
      "conv2d_4 (Conv2D)            (None, 284, 284, 64)      18496     \n",
      "_________________________________________________________________\n",
      "max_pooling2d_2 (MaxPooling2 (None, 142, 142, 64)      0         \n",
      "_________________________________________________________________\n",
      "dropout_3 (Dropout)          (None, 142, 142, 64)      0         \n",
      "_________________________________________________________________\n",
      "flatten_2 (Flatten)          (None, 1290496)           0         \n",
      "_________________________________________________________________\n",
      "dense_3 (Dense)              (None, 64)                82591808  \n",
      "_________________________________________________________________\n",
      "dropout_4 (Dropout)          (None, 64)                0         \n",
      "_________________________________________________________________\n",
      "dense_4 (Dense)              (None, 5)                 325       \n",
      "=================================================================\n",
      "Total params: 82,611,525\n",
      "Trainable params: 82,611,525\n",
      "Non-trainable params: 0\n",
      "_________________________________________________________________\n",
      "None\n"
     ]
    }
   ],
   "source": [
    "model = Sequential()\n",
    "model.add(Conv2D(32, kernel_size=(3, 3), activation='relu', input_shape=(288, 288, 3)))\n",
    "model.add(Conv2D(64, kernel_size=(3, 3), activation='relu'))\n",
    "model.add(MaxPooling2D(pool_size=(2, 2)))\n",
    "model.add(Dropout(0.25))\n",
    "model.add(Flatten())\n",
    "model.add(Dense(64, activation='relu'))\n",
    "model.add(Dropout(0.5))\n",
    "model.add(Dense(5, activation='softmax'))\n",
    "model.compile(loss='categorical_crossentropy', optimizer='adam', metrics=['accuracy'])\n",
    "print(model.summary())"
   ]
  },
  {
   "cell_type": "code",
   "execution_count": 18,
   "metadata": {},
   "outputs": [],
   "source": [
    "early_stopping = EarlyStopping(monitor='val_loss', patience=50, verbose=1)\n",
    "callbacks = [early_stopping]"
   ]
  },
  {
   "cell_type": "code",
   "execution_count": 19,
   "metadata": {},
   "outputs": [],
   "source": [
    "train_datagen = ImageDataGenerator(preprocessing_function=preprocess_input,  \n",
    "                                   width_shift_range=0.2,\n",
    "                                   height_shift_range=0.2,\n",
    "                                   shear_range=0.2,\n",
    "                                   zoom_range=0.1,\n",
    "                                   fill_mode='nearest',\n",
    "                                   horizontal_flip = False)\n",
    "test_datagen = ImageDataGenerator(preprocessing_function=preprocess_input)"
   ]
  },
  {
   "cell_type": "code",
   "execution_count": 20,
   "metadata": {},
   "outputs": [
    {
     "name": "stdout",
     "output_type": "stream",
     "text": [
      "Found 7955 images belonging to 5 classes.\n"
     ]
    }
   ],
   "source": [
    "training_set = train_datagen.flow_from_directory('data/19_class2/train',\n",
    "                                                 target_size = (288, 288),\n",
    "                                                 batch_size = 16,\n",
    "                                                 class_mode = 'categorical', shuffle=True)"
   ]
  },
  {
   "cell_type": "code",
   "execution_count": 21,
   "metadata": {},
   "outputs": [
    {
     "name": "stdout",
     "output_type": "stream",
     "text": [
      "Found 968 images belonging to 5 classes.\n"
     ]
    }
   ],
   "source": [
    "test_set = test_datagen.flow_from_directory('data/19_class2/test',\n",
    "                                            target_size = (288, 288),\n",
    "                                            batch_size = 16,\n",
    "                                            class_mode = 'categorical')"
   ]
  },
  {
   "cell_type": "code",
   "execution_count": 22,
   "metadata": {},
   "outputs": [
    {
     "name": "stdout",
     "output_type": "stream",
     "text": [
      "Found 1561 images belonging to 5 classes.\n"
     ]
    }
   ],
   "source": [
    "val_set = test_datagen.flow_from_directory('data/19_class2/val',\n",
    "                                            target_size = (288, 288),\n",
    "                                            batch_size = 16,\n",
    "                                            class_mode = 'categorical')"
   ]
  },
  {
   "cell_type": "code",
   "execution_count": 25,
   "metadata": {},
   "outputs": [],
   "source": [
    "class_weights = class_weight.compute_class_weight(\n",
    "               'balanced',\n",
    "                np.unique(training_set.classes), \n",
    "                training_set.classes)"
   ]
  },
  {
   "cell_type": "code",
   "execution_count": 27,
   "metadata": {},
   "outputs": [
    {
     "name": "stdout",
     "output_type": "stream",
     "text": [
      "Epoch 1/10\n",
      "498/498 [==============================] - 1843s 4s/step - loss: 0.9849 - accuracy: 0.6333 - val_loss: 1.0383 - val_accuracy: 0.6736\n",
      "Epoch 2/10\n",
      "498/498 [==============================] - 1841s 4s/step - loss: 0.9646 - accuracy: 0.6393 - val_loss: 1.2206 - val_accuracy: 0.6374\n",
      "Epoch 3/10\n",
      "498/498 [==============================] - 1849s 4s/step - loss: 0.9429 - accuracy: 0.6478 - val_loss: 0.7554 - val_accuracy: 0.6312\n",
      "Epoch 4/10\n",
      "498/498 [==============================] - 1848s 4s/step - loss: 0.9331 - accuracy: 0.6471 - val_loss: 1.2609 - val_accuracy: 0.6777\n",
      "Epoch 5/10\n",
      "498/498 [==============================] - 1848s 4s/step - loss: 0.9041 - accuracy: 0.6621 - val_loss: 0.7249 - val_accuracy: 0.7180\n",
      "Epoch 6/10\n",
      "498/498 [==============================] - 1849s 4s/step - loss: 0.8889 - accuracy: 0.6645 - val_loss: 1.2034 - val_accuracy: 0.7262\n",
      "Epoch 7/10\n",
      "498/498 [==============================] - 1846s 4s/step - loss: 0.8563 - accuracy: 0.6832 - val_loss: 0.5849 - val_accuracy: 0.7273\n",
      "Epoch 8/10\n",
      "498/498 [==============================] - 1849s 4s/step - loss: 0.8793 - accuracy: 0.6821 - val_loss: 0.5985 - val_accuracy: 0.7510\n",
      "Epoch 9/10\n",
      "498/498 [==============================] - 1845s 4s/step - loss: 0.8296 - accuracy: 0.6911 - val_loss: 0.6851 - val_accuracy: 0.7366\n",
      "Epoch 10/10\n",
      "498/498 [==============================] - 1844s 4s/step - loss: 0.8326 - accuracy: 0.7038 - val_loss: 0.4604 - val_accuracy: 0.7614\n"
     ]
    },
    {
     "data": {
      "text/plain": [
       "<keras.callbacks.callbacks.History at 0x7f0a8acac8d0>"
      ]
     },
     "execution_count": 27,
     "metadata": {},
     "output_type": "execute_result"
    }
   ],
   "source": [
    "model.fit_generator(training_set, epochs=10, class_weight=class_weights,  validation_data = test_set, verbose=True, callbacks=callbacks, shuffle=True)"
   ]
  },
  {
   "cell_type": "code",
   "execution_count": 28,
   "metadata": {},
   "outputs": [],
   "source": [
    "model.save('MK_19class2.h5')"
   ]
  },
  {
   "cell_type": "code",
   "execution_count": 29,
   "metadata": {},
   "outputs": [],
   "source": [
    "Y_pred = model.predict_generator(val_set)\n",
    "y_pred = np.argmax(Y_pred, axis=1)"
   ]
  },
  {
   "cell_type": "code",
   "execution_count": 30,
   "metadata": {},
   "outputs": [
    {
     "name": "stdout",
     "output_type": "stream",
     "text": [
      "              precision    recall  f1-score   support\n",
      "\n",
      "           0       0.38      0.35      0.36       607\n",
      "           1       0.05      0.01      0.02        76\n",
      "           2       0.14      0.19      0.16       203\n",
      "           3       0.08      0.08      0.08       154\n",
      "           4       0.33      0.36      0.34       521\n",
      "\n",
      "    accuracy                           0.29      1561\n",
      "   macro avg       0.20      0.20      0.19      1561\n",
      "weighted avg       0.29      0.29      0.29      1561\n",
      "\n"
     ]
    }
   ],
   "source": [
    "print(classification_report(val_set.classes, y_pred))"
   ]
  },
  {
   "cell_type": "code",
   "execution_count": 31,
   "metadata": {},
   "outputs": [
    {
     "name": "stdout",
     "output_type": "stream",
     "text": [
      "Training Accuracy:  0.7358893752098083\n"
     ]
    }
   ],
   "source": [
    "score = model.evaluate_generator(training_set, verbose=0)\n",
    "print(\"Training Accuracy: \", score[1])"
   ]
  },
  {
   "cell_type": "code",
   "execution_count": 32,
   "metadata": {},
   "outputs": [
    {
     "name": "stdout",
     "output_type": "stream",
     "text": [
      "Testing Accuracy:  0.7613636255264282\n"
     ]
    }
   ],
   "source": [
    "score = model.evaluate_generator(test_set, verbose=0)\n",
    "print(\"Testing Accuracy: \", score[1])"
   ]
  },
  {
   "cell_type": "code",
   "execution_count": 33,
   "metadata": {},
   "outputs": [
    {
     "name": "stdout",
     "output_type": "stream",
     "text": [
      "Validating Accuracy:  0.7238949537277222\n"
     ]
    }
   ],
   "source": [
    "score = model.evaluate_generator(val_set, verbose=0)\n",
    "print(\"Validating Accuracy: \", score[1])"
   ]
  },
  {
   "cell_type": "code",
   "execution_count": null,
   "metadata": {},
   "outputs": [],
   "source": []
  }
 ],
 "metadata": {
  "kernelspec": {
   "display_name": "Python 3",
   "language": "python",
   "name": "python3"
  },
  "language_info": {
   "codemirror_mode": {
    "name": "ipython",
    "version": 3
   },
   "file_extension": ".py",
   "mimetype": "text/x-python",
   "name": "python",
   "nbconvert_exporter": "python",
   "pygments_lexer": "ipython3",
   "version": "3.7.3"
  }
 },
 "nbformat": 4,
 "nbformat_minor": 2
}
